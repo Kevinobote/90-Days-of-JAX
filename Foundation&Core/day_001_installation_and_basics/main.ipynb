{
 "cells": [
  {
   "cell_type": "markdown",
   "id": "fd96dce0",
   "metadata": {},
   "source": [
    "## Day 001: JAX Installation and Basic Array Operations"
   ]
  },
  {
   "cell_type": "code",
   "execution_count": 3,
   "id": "5e1b9176",
   "metadata": {},
   "outputs": [],
   "source": [
    "import jax\n",
    "import numpy as np\n",
    "import jax.numpy as jnp"
   ]
  },
  {
   "cell_type": "code",
   "execution_count": 4,
   "id": "82e0b892",
   "metadata": {},
   "outputs": [
    {
     "name": "stdout",
     "output_type": "stream",
     "text": [
      "JAX version: 0.6.1\n",
      "JAX backend: cpu\n"
     ]
    }
   ],
   "source": [
    "# 1. Verify JAX installation and backend\n",
    "print(f\"JAX version: {jax.__version__}\")\n",
    "print(f\"JAX backend: {jax.default_backend()}\")"
   ]
  },
  {
   "cell_type": "code",
   "execution_count": 5,
   "id": "c8d5dfc5",
   "metadata": {},
   "outputs": [
    {
     "name": "stdout",
     "output_type": "stream",
     "text": [
      "\n",
      "My first JAX array:\n",
      "[1. 2. 3. 4.]\n",
      "Type: <class 'jaxlib._jax.ArrayImpl'>\n",
      "Shape: (4,)\n",
      "Dtype: float32\n"
     ]
    }
   ],
   "source": [
    "# 2. Create your first JAX array\n",
    "# Similar to NumPy's array creation\n",
    "my_jax_array = jnp.array([1.0, 2.0, 3.0, 4.0])\n",
    "print(\"\\nMy first JAX array:\")\n",
    "print(my_jax_array)\n",
    "print(f\"Type: {type(my_jax_array)}\")\n",
    "print(f\"Shape: {my_jax_array.shape}\")\n",
    "print(f\"Dtype: {my_jax_array.dtype}\")"
   ]
  },
  {
   "cell_type": "code",
   "execution_count": 6,
   "id": "076d26c3",
   "metadata": {},
   "outputs": [
    {
     "name": "stdout",
     "output_type": "stream",
     "text": [
      "\n",
      "Basic arithmetic operations:\n",
      "Array + 10: [11. 12. 13. 14.]\n",
      "Array * 2.5: [ 2.5  5.   7.5 10. ]\n",
      "Array / 2.0: [0.5 1.  1.5 2. ]\n"
     ]
    }
   ],
   "source": [
    "# 3. Perform basic arithmetic operations\n",
    "# JAX operations are just-in-time compiled on first execution\n",
    "print(\"\\nBasic arithmetic operations:\")\n",
    "sum_result = my_jax_array + 10.0\n",
    "print(f\"Array + 10: {sum_result}\")\n",
    "\n",
    "product_result = my_jax_array * 2.5\n",
    "print(f\"Array * 2.5: {product_result}\")\n",
    "\n",
    "division_result = my_jax_array / 2.0\n",
    "print(f\"Array / 2.0: {division_result}\")"
   ]
  },
  {
   "cell_type": "code",
   "execution_count": 7,
   "id": "8c92eeae",
   "metadata": {},
   "outputs": [
    {
     "name": "stdout",
     "output_type": "stream",
     "text": [
      "Dot product: 70.0\n",
      "Element-wise multiplication: [ 5. 12. 21. 32.]\n",
      "Sum of squares: 30.0\n"
     ]
    }
   ],
   "source": [
    "# Dot product with another array (similar to jnp.dot or @)\n",
    "another_array = jnp.array([5.0, 6.0, 7.0, 8.0])\n",
    "dot_product = jnp.dot(my_jax_array, another_array)\n",
    "print(f\"Dot product: {dot_product}\")\n",
    "\n",
    "# Element-wise multiplication\n",
    "elementwise_mult = my_jax_array * another_array\n",
    "print(f\"Element-wise multiplication: {elementwise_mult}\")\n",
    "\n",
    "# More complex operation: sum of squares\n",
    "sum_of_squares = jnp.sum(my_jax_array**2)\n",
    "print(f\"Sum of squares: {sum_of_squares}\")"
   ]
  },
  {
   "cell_type": "code",
   "execution_count": 8,
   "id": "e91a5976",
   "metadata": {},
   "outputs": [
    {
     "name": "stdout",
     "output_type": "stream",
     "text": [
      "\n",
      "Identity matrix:\n",
      "[[1. 0. 0.]\n",
      " [0. 1. 0.]\n",
      " [0. 0. 1.]]\n",
      "\n",
      "Diagonal matrix:\n",
      "[[1 0 0]\n",
      " [0 2 0]\n",
      " [0 0 3]]\n",
      "\n",
      "Random matrix (3x3):\n",
      "[[ 1.6226422   2.0252647  -0.43359444]\n",
      " [-0.07861735  0.1760909  -0.97208923]\n",
      " [-0.49529874  0.4943786   0.6643493 ]]\n"
     ]
    }
   ],
   "source": [
    "# Types of Matrices in JAX and NumPy\n",
    "# JAX supports various matrix types similar to NumPy\n",
    "identity_matrix = jnp.eye(3)  # Identity matrix\n",
    "print(\"\\nIdentity matrix:\")\n",
    "print(identity_matrix)\n",
    "\n",
    "# Diagonal matrix\n",
    "diagonal_matrix = jnp.diag(jnp.array([1, 2, 3]))\n",
    "print(\"\\nDiagonal matrix:\")\n",
    "print(diagonal_matrix)\n",
    "\n",
    "# Random matrix generation\n",
    "random_matrix = jax.random.normal(jax.random.PRNGKey(0), (3, 3))  # 3x3 matrix with normal distribution\n",
    "print(\"\\nRandom matrix (3x3):\")\n",
    "print(random_matrix)\n"
   ]
  },
  {
   "cell_type": "code",
   "execution_count": 9,
   "id": "40e72266",
   "metadata": {},
   "outputs": [],
   "source": [
    "# Row Matrix\n",
    "row_np = np.array([[1, 2, 3]])\n",
    "row_jax = jnp.array([[1, 2, 3]])"
   ]
  },
  {
   "cell_type": "code",
   "execution_count": 10,
   "id": "76340f78",
   "metadata": {},
   "outputs": [
    {
     "data": {
      "text/plain": [
       "array([[1, 2, 3]])"
      ]
     },
     "execution_count": 10,
     "metadata": {},
     "output_type": "execute_result"
    }
   ],
   "source": [
    "row_np"
   ]
  },
  {
   "cell_type": "code",
   "execution_count": 11,
   "id": "3d71d384",
   "metadata": {},
   "outputs": [
    {
     "data": {
      "text/plain": [
       "Array([[1, 2, 3]], dtype=int32)"
      ]
     },
     "execution_count": 11,
     "metadata": {},
     "output_type": "execute_result"
    }
   ],
   "source": [
    "row_jax"
   ]
  },
  {
   "cell_type": "code",
   "execution_count": 12,
   "id": "557b3ada",
   "metadata": {},
   "outputs": [
    {
     "data": {
      "text/plain": [
       "array([[1],\n",
       "       [2],\n",
       "       [3]])"
      ]
     },
     "execution_count": 12,
     "metadata": {},
     "output_type": "execute_result"
    }
   ],
   "source": [
    "# Column Matrix\n",
    "col_np = np.array([[1],[2],[3]])\n",
    "col_jax = jnp.array([[1],[2],[3]])\n",
    "\n",
    "col_np"
   ]
  },
  {
   "cell_type": "code",
   "execution_count": 13,
   "id": "83c6fcc0",
   "metadata": {},
   "outputs": [
    {
     "data": {
      "text/plain": [
       "Array([[1],\n",
       "       [2],\n",
       "       [3]], dtype=int32)"
      ]
     },
     "execution_count": 13,
     "metadata": {},
     "output_type": "execute_result"
    }
   ],
   "source": [
    "col_jax"
   ]
  },
  {
   "cell_type": "code",
   "execution_count": 14,
   "id": "ad317daf",
   "metadata": {},
   "outputs": [
    {
     "data": {
      "text/plain": [
       "array([[1, 2],\n",
       "       [3, 4]])"
      ]
     },
     "execution_count": 14,
     "metadata": {},
     "output_type": "execute_result"
    }
   ],
   "source": [
    "# Square Matrix\n",
    "square_np = np.array([[1, 2], [3, 4]])\n",
    "square_jax = jnp.array([[1, 2], [3, 4]])\n",
    "\n",
    "square_np"
   ]
  },
  {
   "cell_type": "code",
   "execution_count": 15,
   "id": "95a61a26",
   "metadata": {},
   "outputs": [
    {
     "data": {
      "text/plain": [
       "Array([[1, 2],\n",
       "       [3, 4]], dtype=int32)"
      ]
     },
     "execution_count": 15,
     "metadata": {},
     "output_type": "execute_result"
    }
   ],
   "source": [
    "square_jax"
   ]
  },
  {
   "cell_type": "code",
   "execution_count": 16,
   "id": "9af16399",
   "metadata": {},
   "outputs": [
    {
     "data": {
      "text/plain": [
       "array([[1., 0., 0.],\n",
       "       [0., 1., 0.],\n",
       "       [0., 0., 1.]])"
      ]
     },
     "execution_count": 16,
     "metadata": {},
     "output_type": "execute_result"
    }
   ],
   "source": [
    "# Identity Matrix\n",
    "identity_np = np.eye(3)\n",
    "identity_jax = jnp.eye(3)\n",
    "\n",
    "identity_np"
   ]
  },
  {
   "cell_type": "code",
   "execution_count": 17,
   "id": "561ec0f0",
   "metadata": {},
   "outputs": [
    {
     "data": {
      "text/plain": [
       "Array([[1., 0., 0.],\n",
       "       [0., 1., 0.],\n",
       "       [0., 0., 1.]], dtype=float32)"
      ]
     },
     "execution_count": 17,
     "metadata": {},
     "output_type": "execute_result"
    }
   ],
   "source": [
    "identity_jax"
   ]
  },
  {
   "cell_type": "code",
   "execution_count": 18,
   "id": "656d5808",
   "metadata": {},
   "outputs": [
    {
     "data": {
      "text/plain": [
       "array([[0., 0., 0.],\n",
       "       [0., 0., 0.],\n",
       "       [0., 0., 0.]])"
      ]
     },
     "execution_count": 18,
     "metadata": {},
     "output_type": "execute_result"
    }
   ],
   "source": [
    "# Zero Matrix\n",
    "zero_np = np.zeros((3, 3))\n",
    "zero_jax = jnp.zeros((3, 3))\n",
    "\n",
    "zero_np"
   ]
  },
  {
   "cell_type": "code",
   "execution_count": 19,
   "id": "06570403",
   "metadata": {},
   "outputs": [
    {
     "data": {
      "text/plain": [
       "Array([[0., 0., 0.],\n",
       "       [0., 0., 0.],\n",
       "       [0., 0., 0.]], dtype=float32)"
      ]
     },
     "execution_count": 19,
     "metadata": {},
     "output_type": "execute_result"
    }
   ],
   "source": [
    "zero_jax"
   ]
  },
  {
   "cell_type": "code",
   "execution_count": 20,
   "id": "c31a37aa",
   "metadata": {},
   "outputs": [
    {
     "data": {
      "text/plain": [
       "array([[1, 0, 0],\n",
       "       [0, 2, 0],\n",
       "       [0, 0, 3]])"
      ]
     },
     "execution_count": 20,
     "metadata": {},
     "output_type": "execute_result"
    }
   ],
   "source": [
    "# Diagonal Matrix\n",
    "diagonal_np = np.diag([1, 2, 3])    \n",
    "diagonal_jax = jnp.diag(jnp.array([1, 2, 3]))\n",
    "\n",
    "diagonal_np"
   ]
  },
  {
   "cell_type": "code",
   "execution_count": 21,
   "id": "5ee05229",
   "metadata": {},
   "outputs": [
    {
     "data": {
      "text/plain": [
       "Array([[1, 0, 0],\n",
       "       [0, 2, 0],\n",
       "       [0, 0, 3]], dtype=int32)"
      ]
     },
     "execution_count": 21,
     "metadata": {},
     "output_type": "execute_result"
    }
   ],
   "source": [
    "diagonal_jax"
   ]
  },
  {
   "cell_type": "code",
   "execution_count": 22,
   "id": "702264bc",
   "metadata": {},
   "outputs": [
    {
     "data": {
      "text/plain": [
       "array([[1, 2, 3],\n",
       "       [0, 5, 6],\n",
       "       [0, 0, 9]])"
      ]
     },
     "execution_count": 22,
     "metadata": {},
     "output_type": "execute_result"
    }
   ],
   "source": [
    "# Upper Triangular Matrix\n",
    "upper_triangular_np = np.triu(np.array([[1, 2, 3], [4, 5, 6], [7, 8, 9]]))\n",
    "upper_triangular_jax = jnp.triu(jnp.array([[1, 2, 3], [4, 5, 6], [7, 8, 9]]))\n",
    "\n",
    "upper_triangular_np"
   ]
  },
  {
   "cell_type": "code",
   "execution_count": 23,
   "id": "2e763a48",
   "metadata": {},
   "outputs": [
    {
     "data": {
      "text/plain": [
       "Array([[1, 2, 3],\n",
       "       [0, 5, 6],\n",
       "       [0, 0, 9]], dtype=int32)"
      ]
     },
     "execution_count": 23,
     "metadata": {},
     "output_type": "execute_result"
    }
   ],
   "source": [
    "upper_triangular_jax"
   ]
  },
  {
   "cell_type": "code",
   "execution_count": 24,
   "id": "7258449b",
   "metadata": {},
   "outputs": [
    {
     "data": {
      "text/plain": [
       "array([[1, 0, 0],\n",
       "       [4, 5, 0],\n",
       "       [7, 8, 9]])"
      ]
     },
     "execution_count": 24,
     "metadata": {},
     "output_type": "execute_result"
    }
   ],
   "source": [
    "# Lower Triangular Matrix\n",
    "lower_triangular_np = np.tril(np.array([[1, 2, 3], [4, 5, 6], [7, 8, 9]]))\n",
    "lower_triangular_jax = jnp.tril(jnp.array([[1, 2, 3], [4, 5, 6], [7, 8, 9]]))\n",
    "\n",
    "lower_triangular_np"
   ]
  },
  {
   "cell_type": "code",
   "execution_count": 25,
   "id": "9134949f",
   "metadata": {},
   "outputs": [
    {
     "data": {
      "text/plain": [
       "Array([[1, 0, 0],\n",
       "       [4, 5, 0],\n",
       "       [7, 8, 9]], dtype=int32)"
      ]
     },
     "execution_count": 25,
     "metadata": {},
     "output_type": "execute_result"
    }
   ],
   "source": [
    "lower_triangular_jax"
   ]
  },
  {
   "cell_type": "code",
   "execution_count": 26,
   "id": "1102cb67",
   "metadata": {},
   "outputs": [
    {
     "data": {
      "text/plain": [
       "array([[1, 2, 3],\n",
       "       [2, 4, 5],\n",
       "       [3, 5, 6]])"
      ]
     },
     "execution_count": 26,
     "metadata": {},
     "output_type": "execute_result"
    }
   ],
   "source": [
    "# Symmetric Matrix\n",
    "symmetric_np = np.array([[1, 2, 3], [2, 4, 5], [3, 5, 6]])\n",
    "symmetric_jax = jnp.array([[1, 2, 3], [2, 4, 5], [3, 5, 6]])\n",
    "\n",
    "symmetric_np"
   ]
  },
  {
   "cell_type": "code",
   "execution_count": 27,
   "id": "7bce3200",
   "metadata": {},
   "outputs": [
    {
     "data": {
      "text/plain": [
       "Array([[1, 2, 3],\n",
       "       [2, 4, 5],\n",
       "       [3, 5, 6]], dtype=int32)"
      ]
     },
     "execution_count": 27,
     "metadata": {},
     "output_type": "execute_result"
    }
   ],
   "source": [
    "symmetric_jax"
   ]
  },
  {
   "cell_type": "code",
   "execution_count": 28,
   "id": "4949c022",
   "metadata": {},
   "outputs": [
    {
     "data": {
      "text/plain": [
       "array([[ 0, -2,  3],\n",
       "       [ 2,  0, -1],\n",
       "       [-3,  1,  0]])"
      ]
     },
     "execution_count": 28,
     "metadata": {},
     "output_type": "execute_result"
    }
   ],
   "source": [
    "# Skew-Symmetric Matrix\n",
    "skew_symmetric_np = np.array([[0, -2, 3], [2, 0, -1], [-3, 1, 0]])\n",
    "skew_symmetric_jax = jnp.array([[0, -2, 3], [2, 0, -1], [-3, 1, 0]])\n",
    "\n",
    "skew_symmetric_np"
   ]
  },
  {
   "cell_type": "code",
   "execution_count": 29,
   "id": "eeac2dca",
   "metadata": {},
   "outputs": [
    {
     "data": {
      "text/plain": [
       "Array([[ 0, -2,  3],\n",
       "       [ 2,  0, -1],\n",
       "       [-3,  1,  0]], dtype=int32)"
      ]
     },
     "execution_count": 29,
     "metadata": {},
     "output_type": "execute_result"
    }
   ],
   "source": [
    "skew_symmetric_jax"
   ]
  },
  {
   "cell_type": "code",
   "execution_count": 30,
   "id": "2d0f99db",
   "metadata": {},
   "outputs": [
    {
     "data": {
      "text/plain": [
       "Array([[0., 0., 0.],\n",
       "       [0., 0., 0.],\n",
       "       [0., 0., 0.]], dtype=float32)"
      ]
     },
     "execution_count": 30,
     "metadata": {},
     "output_type": "execute_result"
    }
   ],
   "source": [
    "a = jnp.zeros((3, 3),dtype=jnp.float32)  # Example of creating a zero matrix in JAX\n",
    "a"
   ]
  },
  {
   "cell_type": "code",
   "execution_count": 31,
   "id": "8312fbfb",
   "metadata": {},
   "outputs": [
    {
     "name": "stdout",
     "output_type": "stream",
     "text": [
      "[0 1 2 3 4 5]\n"
     ]
    }
   ],
   "source": [
    "b = jnp.arange(6)\n",
    "print(b)"
   ]
  },
  {
   "cell_type": "code",
   "execution_count": 32,
   "id": "bf45fc94",
   "metadata": {},
   "outputs": [
    {
     "name": "stdout",
     "output_type": "stream",
     "text": [
      "\n",
      "Mean Squared Error Loss:\n",
      "0.11\n"
     ]
    }
   ],
   "source": [
    "b.__class__\n",
    "# Automatic Differentiation\n",
    "# JAX supports automatic differentiation, which is useful for optimization and machine learning tasks.\n",
    "def mse_loss(predictions, targets):\n",
    "    \"\"\"Mean Squared Error Loss Function\"\"\"\n",
    "    return jnp.mean((predictions - targets) ** 2)\n",
    "\n",
    "# Example usage of the loss function\n",
    "predictions = jnp.array([0.5, 0.2, 0.8])\n",
    "targets = jnp.array([0.0, 0.0, 1.0])\n",
    "loss = mse_loss(predictions, targets)\n",
    "print(\"\\nMean Squared Error Loss:\")\n",
    "print(loss)"
   ]
  },
  {
   "cell_type": "code",
   "execution_count": 33,
   "id": "6cd15e6c",
   "metadata": {},
   "outputs": [
    {
     "name": "stdout",
     "output_type": "stream",
     "text": [
      "\n",
      "Mean Squared Error Loss Function: 0.625\n"
     ]
    }
   ],
   "source": [
    "# JAX's automatic differentiation\n",
    "def mse_loss(preds, labels):\n",
    "    return ((preds - labels) ** 2).mean()\n",
    "\n",
    "print(\"\\nMean Squared Error Loss Function:\",\n",
    "      mse_loss(jnp.array([1.0, 2.0]),\n",
    "                jnp.array([0.0, 1.5])))"
   ]
  },
  {
   "cell_type": "code",
   "execution_count": 34,
   "id": "1a8abf91",
   "metadata": {},
   "outputs": [
    {
     "name": "stdout",
     "output_type": "stream",
     "text": [
      "\n",
      "Gradient of the MSE loss function with respect to predictions: [1.  0.5]\n"
     ]
    }
   ],
   "source": [
    "# Loss gradient\n",
    "mse_grad_fn = jax.grad(mse_loss)\n",
    "print(\"\\nGradient of the MSE loss function with respect to predictions:\",\n",
    "      mse_grad_fn(jnp.array([1.0, 2.0]),\n",
    "                  jnp.array([0.0, 1.5])))"
   ]
  },
  {
   "cell_type": "code",
   "execution_count": 35,
   "id": "0071f1cd",
   "metadata": {},
   "outputs": [
    {
     "data": {
      "text/plain": [
       "{ \u001b[34m\u001b[22m\u001b[1mlambda \u001b[39m\u001b[22m\u001b[22m; a\u001b[35m:f32[2]\u001b[39m b\u001b[35m:f32[2]\u001b[39m. \u001b[34m\u001b[22m\u001b[1mlet\n",
       "    \u001b[39m\u001b[22m\u001b[22mc\u001b[35m:f32[2]\u001b[39m = sub a b\n",
       "    d\u001b[35m:f32[2]\u001b[39m = integer_pow[y=2] c\n",
       "    e\u001b[35m:f32[]\u001b[39m = reduce_sum[axes=(0,)] d\n",
       "    f\u001b[35m:f32[]\u001b[39m = div e 2.0:f32[]\n",
       "  \u001b[34m\u001b[22m\u001b[1min \u001b[39m\u001b[22m\u001b[22m(f,) }"
      ]
     },
     "execution_count": 35,
     "metadata": {},
     "output_type": "execute_result"
    }
   ],
   "source": [
    "# Function Transformation\n",
    "exmp_pred = jnp.array([1.0, 2.0])\n",
    "exmp_labels = jnp.array([0.0, 1.5])\n",
    "\n",
    "# Show the JAX computation trace (JAXPR)\n",
    "jax.make_jaxpr(mse_loss)(exmp_pred, exmp_labels)\n"
   ]
  },
  {
   "cell_type": "code",
   "execution_count": null,
   "id": "5fc74a4a",
   "metadata": {},
   "outputs": [
    {
     "name": "stdout",
     "output_type": "stream",
     "text": [
      "5.79 μs ± 107 ns per loop (mean ± std. dev. of 7 runs, 100,000 loops each)\n"
     ]
    }
   ],
   "source": [
    "# Just-In-Time Compilation (JIT)\n",
    "\n",
    "# Sample input batch\n",
    "x_batch = jnp.array([1.0, 2.0, 3.0, 4.0])\n",
    "y_batch = jnp.array([0.5, 2.5, 2.5, 5.0])\n",
    "\n",
    "# JIT-compiled MSE Loss function\n",
    "@jax.jit\n",
    "def mse_loss(x, y):\n",
    "    return jnp.mean((x - y) ** 2)\n",
    "\n",
    "# Run JIT once to trigger compilation\n",
    "mse_loss(x_batch, y_batch).block_until_ready()\n",
    "\n",
    "# Benchmark using Jupyter magic (works only in notebooks)\n",
    "%timeit mse_loss(x_batch, y_batch).block_until_ready()\n"
   ]
  },
  {
   "cell_type": "code",
   "execution_count": 41,
   "id": "ea756927",
   "metadata": {},
   "outputs": [
    {
     "name": "stdout",
     "output_type": "stream",
     "text": [
      "5.9 μs ± 96.6 ns per loop (mean ± std. dev. of 7 runs, 100,000 loops each)\n"
     ]
    }
   ],
   "source": [
    "%timeit mse_jit(x_batch, y_batch).block_until_ready()  # Benchmarking the JIT-compiled function"
   ]
  },
  {
   "cell_type": "code",
   "execution_count": 31,
   "id": "22a26887",
   "metadata": {},
   "outputs": [
    {
     "name": "stdout",
     "output_type": "stream",
     "text": [
      "\n",
      "Mean Squared Error Loss:\n",
      "0.11\n"
     ]
    }
   ],
   "source": [
    "# Automatic Differentiation\n",
    "# JAX supports automatic differentiation, which is useful for optimization and machine learning tasks.\n",
    "def mse_loss(predictions, targets):\n",
    "    \"\"\"Mean Squared Error Loss Function\"\"\"\n",
    "    return jnp.mean((predictions - targets) ** 2)\n",
    "\n",
    "# Example usage of the loss function\n",
    "predictions = jnp.array([0.5, 0.2, 0.8])\n",
    "targets = jnp.array([0.0, 0.0, 1.0])\n",
    "loss = mse_loss(predictions, targets)\n",
    "print(\"\\nMean Squared Error Loss:\")\n",
    "print(loss)"
   ]
  },
  {
   "cell_type": "code",
   "execution_count": 34,
   "id": "dcfe0fc4",
   "metadata": {},
   "outputs": [
    {
     "name": "stdout",
     "output_type": "stream",
     "text": [
      "\n",
      "Gradients of the loss function:\n",
      "[ 0.33333334  0.13333334 -0.13333333]\n"
     ]
    }
   ],
   "source": [
    "# The loss function can be differentiated using JAX's grad function\n",
    "from jax import grad\n",
    "loss_grad = grad(mse_loss)\n",
    "gradients = loss_grad(predictions, targets)\n",
    "print(\"\\nGradients of the loss function:\")\n",
    "print(gradients)"
   ]
  },
  {
   "cell_type": "code",
   "execution_count": null,
   "id": "44b83fd6",
   "metadata": {},
   "outputs": [],
   "source": []
  }
 ],
 "metadata": {
  "kernelspec": {
   "display_name": "base",
   "language": "python",
   "name": "python3"
  },
  "language_info": {
   "codemirror_mode": {
    "name": "ipython",
    "version": 3
   },
   "file_extension": ".py",
   "mimetype": "text/x-python",
   "name": "python",
   "nbconvert_exporter": "python",
   "pygments_lexer": "ipython3",
   "version": "3.12.2"
  }
 },
 "nbformat": 4,
 "nbformat_minor": 5
}
